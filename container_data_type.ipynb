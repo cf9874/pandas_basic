{
 "cells": [
  {
   "cell_type": "markdown",
   "id": "723c525c-ed5c-40a5-9f8a-12e47ce0fc7b",
   "metadata": {},
   "source": [
    "# container data type : list, dictionary +Tuple : tuple은 자주사용되지 않음\n",
    "# 여러가지 자료형을 담을 수 있는 자료형"
   ]
  },
  {
   "cell_type": "markdown",
   "id": "d8e167df-c7f4-4900-865b-16ae42a71a71",
   "metadata": {},
   "source": [
    "## list : javascript array\n",
    "- [자료1, 자료2]"
   ]
  },
  {
   "cell_type": "markdown",
   "id": "ff40f7fe-8ac8-4b06-8fd1-01e96c626c6d",
   "metadata": {},
   "source": [
    "## 선언 (create)"
   ]
  },
  {
   "cell_type": "code",
   "execution_count": 10,
   "id": "0ef00781-e816-42de-8276-3529e1fdc706",
   "metadata": {},
   "outputs": [],
   "source": [
    "names = [\"kim\",\"lee\",\"hong\"]"
   ]
  },
  {
   "cell_type": "markdown",
   "id": "97f52795-dfcd-4414-b478-4260f55b3a09",
   "metadata": {},
   "source": [
    "## 접근 (read)"
   ]
  },
  {
   "cell_type": "code",
   "execution_count": 14,
   "id": "f8295c90-ee5a-4da9-a7cc-16dc431e6b00",
   "metadata": {},
   "outputs": [
    {
     "name": "stdout",
     "output_type": "stream",
     "text": [
      "lee\n"
     ]
    }
   ],
   "source": [
    "print(names[1])"
   ]
  },
  {
   "cell_type": "markdown",
   "id": "4907af75-61c1-4133-af44-f8401d6f2604",
   "metadata": {},
   "source": [
    "## 수정 (update)"
   ]
  },
  {
   "cell_type": "code",
   "execution_count": 22,
   "id": "6b8b4fe3-381d-4dd7-b069-05e43ea00932",
   "metadata": {},
   "outputs": [
    {
     "name": "stdout",
     "output_type": "stream",
     "text": [
      "['kim', 'lee', 'park']\n"
     ]
    }
   ],
   "source": [
    "names[2]=\"park\"\n",
    "print(names)"
   ]
  },
  {
   "cell_type": "markdown",
   "id": "ed917d09-aa3a-4c23-b98f-7f49447e671d",
   "metadata": {},
   "source": [
    "## 삭제 (delete)"
   ]
  },
  {
   "cell_type": "code",
   "execution_count": 62,
   "id": "9782be41-5648-4653-baf1-5b3af95fae35",
   "metadata": {},
   "outputs": [
    {
     "name": "stdout",
     "output_type": "stream",
     "text": [
      "['kim', 'asd', 'park']\n",
      "['kim', 'park']\n"
     ]
    }
   ],
   "source": [
    "names[0] =\"kim\"\n",
    "# names[2]=\"park\"\n",
    "print(names)\n",
    "names.remove(\"asd\")\n",
    "print(names)\n"
   ]
  }
 ],
 "metadata": {
  "kernelspec": {
   "display_name": "Python 3 (ipykernel)",
   "language": "python",
   "name": "python3"
  },
  "language_info": {
   "codemirror_mode": {
    "name": "ipython",
    "version": 3
   },
   "file_extension": ".py",
   "mimetype": "text/x-python",
   "name": "python",
   "nbconvert_exporter": "python",
   "pygments_lexer": "ipython3",
   "version": "3.12.4"
  }
 },
 "nbformat": 4,
 "nbformat_minor": 5
}
