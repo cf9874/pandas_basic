{
 "cells": [
  {
   "cell_type": "code",
   "execution_count": 1,
   "id": "ef9a7490-e41d-40ef-8b66-989c6f41ea8a",
   "metadata": {},
   "outputs": [],
   "source": [
    "name = \"kim\""
   ]
  },
  {
   "cell_type": "code",
   "execution_count": 7,
   "id": "e322448a-e76d-4ef4-aad7-564b74853da6",
   "metadata": {},
   "outputs": [
    {
     "name": "stdout",
     "output_type": "stream",
     "text": [
      "kim\n"
     ]
    }
   ],
   "source": [
    "print(name)"
   ]
  },
  {
   "cell_type": "code",
   "execution_count": 11,
   "id": "52ba7a8f-afba-4227-bb2a-a8b8a7737eba",
   "metadata": {},
   "outputs": [],
   "source": [
    "age = 19"
   ]
  },
  {
   "cell_type": "code",
   "execution_count": 29,
   "id": "3de7523c-ded1-4b01-a77e-aecef2767295",
   "metadata": {},
   "outputs": [
    {
     "name": "stdout",
     "output_type": "stream",
     "text": [
      "이름은 kim 나이는 19\n"
     ]
    }
   ],
   "source": [
    "print(f\"이름은 {name} 나이는 {age}\")"
   ]
  },
  {
   "cell_type": "code",
   "execution_count": 31,
   "id": "02a23f82-5e4b-48c1-b8c8-d5d03ebc39fb",
   "metadata": {},
   "outputs": [],
   "source": [
    "# f : formatting"
   ]
  }
 ],
 "metadata": {
  "kernelspec": {
   "display_name": "Python 3 (ipykernel)",
   "language": "python",
   "name": "python3"
  },
  "language_info": {
   "codemirror_mode": {
    "name": "ipython",
    "version": 3
   },
   "file_extension": ".py",
   "mimetype": "text/x-python",
   "name": "python",
   "nbconvert_exporter": "python",
   "pygments_lexer": "ipython3",
   "version": "3.12.4"
  }
 },
 "nbformat": 4,
 "nbformat_minor": 5
}
