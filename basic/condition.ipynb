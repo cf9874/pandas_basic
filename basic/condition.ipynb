{
 "cells": [
  {
   "cell_type": "markdown",
   "id": "9cf3bb0f-b8d4-4468-9ff7-a2cabf187b67",
   "metadata": {},
   "source": [
    "# Condition : 조건문\n",
    "조건에 따라 다르게 실행하는 문"
   ]
  },
  {
   "cell_type": "markdown",
   "id": "9abbc6d2-ea7f-47f7-9867-73874eceb182",
   "metadata": {},
   "source": [
    "### usage\n",
    "    if 조건1:\n",
    "        조건1==True 일 경우 실행 할 코드\n",
    "    elif 조건2:\n",
    "        조건2==True 일 경우 실행 할 코드\n",
    "    else\n",
    "        상기 조건이 모두 False일 경우 실행할 코드"
   ]
  },
  {
   "cell_type": "code",
   "execution_count": 10,
   "id": "ec874bd8-cbda-4bea-b559-c96b3250b9a2",
   "metadata": {},
   "outputs": [
    {
     "name": "stdout",
     "output_type": "stream",
     "text": [
      "10은(는) 짝수입니다.\n"
     ]
    }
   ],
   "source": [
    "number =10\n",
    "isTrue = number%2 == 1\n",
    "if isTrue:\n",
    "    print(f\"{number}은(는) 홀수입니다.\")\n",
    "else :\n",
    "    print(f\"{number}은(는) 짝수입니다.\")"
   ]
  },
  {
   "cell_type": "markdown",
   "id": "e9924140-98d2-4889-8c4e-dfe8746ff461",
   "metadata": {},
   "source": [
    "조건문의 조건에는 비교연산,논리연산추가도 가능"
   ]
  },
  {
   "cell_type": "code",
   "execution_count": 17,
   "id": "eee9cc22-f4b0-4763-a583-ad0c89b11ae0",
   "metadata": {},
   "outputs": [
    {
     "name": "stdout",
     "output_type": "stream",
     "text": [
      "성인입니다.\n"
     ]
    }
   ],
   "source": [
    "age = 22\n",
    "if age>20 or age == 20 :\n",
    "# if age>=20:\n",
    "    print(\"성인입니다.\")\n",
    "elif age<20 or age >8 :\n",
    "    print(\"학생입니다.\")\n",
    "else:\n",
    "    print(\"미취학 아동입니다.\")"
   ]
  },
  {
   "cell_type": "markdown",
   "id": "61c28f54-8d42-4f94-978e-3651b87de8cc",
   "metadata": {},
   "source": []
  },
  {
   "cell_type": "markdown",
   "id": "7e4befe6-8974-49aa-8ba1-54beed6b1284",
   "metadata": {},
   "source": []
  }
 ],
 "metadata": {
  "kernelspec": {
   "display_name": "Python 3 (ipykernel)",
   "language": "python",
   "name": "python3"
  },
  "language_info": {
   "codemirror_mode": {
    "name": "ipython",
    "version": 3
   },
   "file_extension": ".py",
   "mimetype": "text/x-python",
   "name": "python",
   "nbconvert_exporter": "python",
   "pygments_lexer": "ipython3",
   "version": "3.12.4"
  }
 },
 "nbformat": 4,
 "nbformat_minor": 5
}
