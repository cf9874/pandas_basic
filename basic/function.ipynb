{
 "cells": [
  {
   "cell_type": "markdown",
   "id": "6dd6b30b-4d3b-4993-8525-34b0d7971690",
   "metadata": {},
   "source": [
    "# 함수\n",
    "반복적으로 사용되는 기능을 모아놓은 코드조각\n",
    "\n",
    "### usage\n",
    "    def 함수이름(매개변수1,매개변수2):\n",
    "        코드\n",
    "        return 반환값"
   ]
  },
  {
   "cell_type": "code",
   "execution_count": 18,
   "id": "9625a688-caaa-4256-89f8-e3b72f457b54",
   "metadata": {},
   "outputs": [
    {
     "name": "stdout",
     "output_type": "stream",
     "text": [
      "13.0\n"
     ]
    }
   ],
   "source": [
    "import math\n",
    "\n",
    "def getHypotenuseLength(a,b):\n",
    "    hypotenuse = math.sqrt(a*a + b*b)\n",
    "    return hypotenuse\n",
    "\n",
    "print(getHypotenuseLength(5,12))"
   ]
  },
  {
   "cell_type": "code",
   "execution_count": 32,
   "id": "75278f26-ec82-44ad-b7bf-950386a75728",
   "metadata": {},
   "outputs": [
    {
     "name": "stdout",
     "output_type": "stream",
     "text": [
      "36\n",
      "62\n",
      "44\n",
      "36\n"
     ]
    }
   ],
   "source": [
    "def simpleAdd(x,y,z):\n",
    "    result = (10*x +y )*z\n",
    "    return result\n",
    "print(simpleAdd(1,2,3))\n",
    "print(simpleAdd(3,1,2))\n",
    "print(simpleAdd(2,2,2))\n",
    "print(simpleAdd(z=3,x=1,y=2))\n",
    "# print(simpleAdd(z=3,x=1,2)) << 에러\n"
   ]
  },
  {
   "cell_type": "markdown",
   "id": "ba15436c-761e-4bbc-a0de-2e648d4fb2b4",
   "metadata": {},
   "source": [
    "## Global Keyword : 전역변수선언에 사용"
   ]
  },
  {
   "cell_type": "code",
   "execution_count": 45,
   "id": "d10856a3-d882-4f8a-b2de-71efbd635dd0",
   "metadata": {},
   "outputs": [
    {
     "name": "stdout",
     "output_type": "stream",
     "text": [
      "global variable\n",
      "global variable\n"
     ]
    }
   ],
   "source": [
    "vari = \"test\"\n",
    "def localToGlobal():\n",
    "    global vari\n",
    "    vari =\"global variable\"\n",
    "    print(vari)\n",
    "    return \n",
    "localToGlobal()\n",
    "print(vari)"
   ]
  }
 ],
 "metadata": {
  "kernelspec": {
   "display_name": "Python 3 (ipykernel)",
   "language": "python",
   "name": "python3"
  },
  "language_info": {
   "codemirror_mode": {
    "name": "ipython",
    "version": 3
   },
   "file_extension": ".py",
   "mimetype": "text/x-python",
   "name": "python",
   "nbconvert_exporter": "python",
   "pygments_lexer": "ipython3",
   "version": "3.12.4"
  }
 },
 "nbformat": 4,
 "nbformat_minor": 5
}
