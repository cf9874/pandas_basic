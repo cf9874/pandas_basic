{
 "cells": [
  {
   "cell_type": "markdown",
   "id": "723c525c-ed5c-40a5-9f8a-12e47ce0fc7b",
   "metadata": {},
   "source": [
    "# container data type : list, dictionary +Tuple : tuple은 자주사용되지 않음\n",
    "# 여러가지 자료형을 담을 수 있는 자료형"
   ]
  },
  {
   "cell_type": "markdown",
   "id": "d8e167df-c7f4-4900-865b-16ae42a71a71",
   "metadata": {},
   "source": [
    "## list : javascript array\n",
    "- [자료1, 자료2]"
   ]
  },
  {
   "cell_type": "markdown",
   "id": "ff40f7fe-8ac8-4b06-8fd1-01e96c626c6d",
   "metadata": {},
   "source": [
    "## 선언 (create)"
   ]
  },
  {
   "cell_type": "code",
   "execution_count": 10,
   "id": "0ef00781-e816-42de-8276-3529e1fdc706",
   "metadata": {},
   "outputs": [],
   "source": [
    "names = [\"kim\",\"lee\",\"hong\"]"
   ]
  },
  {
   "cell_type": "markdown",
   "id": "97f52795-dfcd-4414-b478-4260f55b3a09",
   "metadata": {},
   "source": [
    "## 접근 (read)"
   ]
  },
  {
   "cell_type": "code",
   "execution_count": 14,
   "id": "f8295c90-ee5a-4da9-a7cc-16dc431e6b00",
   "metadata": {},
   "outputs": [
    {
     "name": "stdout",
     "output_type": "stream",
     "text": [
      "lee\n"
     ]
    }
   ],
   "source": [
    "print(names[1])"
   ]
  },
  {
   "cell_type": "markdown",
   "id": "4907af75-61c1-4133-af44-f8401d6f2604",
   "metadata": {},
   "source": [
    "## 수정 (update)"
   ]
  },
  {
   "cell_type": "code",
   "execution_count": 22,
   "id": "6b8b4fe3-381d-4dd7-b069-05e43ea00932",
   "metadata": {},
   "outputs": [
    {
     "name": "stdout",
     "output_type": "stream",
     "text": [
      "['kim', 'lee', 'park']\n"
     ]
    }
   ],
   "source": [
    "names[2]=\"park\"\n",
    "print(names)"
   ]
  },
  {
   "cell_type": "markdown",
   "id": "ed917d09-aa3a-4c23-b98f-7f49447e671d",
   "metadata": {},
   "source": [
    "## 삭제 (delete)"
   ]
  },
  {
   "cell_type": "code",
   "execution_count": 67,
   "id": "9782be41-5648-4653-baf1-5b3af95fae35",
   "metadata": {},
   "outputs": [
    {
     "name": "stdout",
     "output_type": "stream",
     "text": [
      "['kim', 'park']\n",
      "['kim', 'park']\n"
     ]
    }
   ],
   "source": [
    "names[0] =\"kim\"\n",
    "# names[2]=\"park\"\n",
    "print(names)\n",
    "# names.remove(\"asd\")\n",
    "print(names)\n"
   ]
  },
  {
   "cell_type": "markdown",
   "id": "c2c2fb9b-ceb6-4a4d-b633-ad71483eac4a",
   "metadata": {},
   "source": [
    "# Dictionay : javascript object"
   ]
  },
  {
   "cell_type": "markdown",
   "id": "a27d49d4-fb8f-42b8-9c6a-1a80d9aa3596",
   "metadata": {},
   "source": [
    "dict\n",
    "- {key1: value1 , key2 : value2}"
   ]
  },
  {
   "cell_type": "markdown",
   "id": "0e675700-c50a-4ab9-a360-1a42052c3852",
   "metadata": {},
   "source": [
    "## 선언 (create)"
   ]
  },
  {
   "cell_type": "code",
   "execution_count": 85,
   "id": "435cb0c7-460e-4bfe-b91c-5201d5c7bd3b",
   "metadata": {},
   "outputs": [
    {
     "name": "stdout",
     "output_type": "stream",
     "text": [
      "{'name': 'kim', 'age': '20', 'gender': 'male', 'region': 'seoul'}\n"
     ]
    }
   ],
   "source": [
    "user = {\n",
    "    \"name\":\"kim\",\n",
    "    \"age\":\"20\",\n",
    "    \"gender\":\"male\",\n",
    "    \"region\":\"seoul\"\n",
    "}\n",
    "print(user)"
   ]
  },
  {
   "cell_type": "markdown",
   "id": "a556b5e3-f0d0-4cfb-97d9-f2f7f9defe70",
   "metadata": {},
   "source": [
    "## 접근 (read)"
   ]
  },
  {
   "cell_type": "code",
   "execution_count": 89,
   "id": "e5fe3bad-bf79-4c3c-bb05-fd1eb50a9f15",
   "metadata": {},
   "outputs": [
    {
     "name": "stdout",
     "output_type": "stream",
     "text": [
      "20\n"
     ]
    }
   ],
   "source": [
    "print(user[\"age\"])"
   ]
  },
  {
   "cell_type": "markdown",
   "id": "b52f7c85-31e0-445f-abd4-255b6d4ec76a",
   "metadata": {},
   "source": [
    "## 수정 (update)"
   ]
  },
  {
   "cell_type": "code",
   "execution_count": 93,
   "id": "2e11a605-3693-47c8-81c1-7ad0af99844f",
   "metadata": {},
   "outputs": [
    {
     "name": "stdout",
     "output_type": "stream",
     "text": [
      "kim의 나이는 30입니다.\n"
     ]
    }
   ],
   "source": [
    "user[\"age\"] = 30\n",
    "print(f\"{user[\"name\"]}의 나이는 {user[\"age\"]}입니다.\")"
   ]
  },
  {
   "cell_type": "markdown",
   "id": "3d739ae6-2820-4bc2-91bb-8afa9705e010",
   "metadata": {},
   "source": [
    "## 삭제 (delete)"
   ]
  },
  {
   "cell_type": "code",
   "execution_count": 95,
   "id": "8d339651-aab0-4540-9afc-f34dfbc3c0e2",
   "metadata": {},
   "outputs": [
    {
     "name": "stdout",
     "output_type": "stream",
     "text": [
      "{'name': 'kim', 'age': 30, 'gender': 'male', 'region': 'seoul'}\n",
      "{'name': 'kim', 'age': 30, 'gender': 'male'}\n"
     ]
    }
   ],
   "source": [
    "print(user)\n",
    "del user[\"region\"]\n",
    "print(user)"
   ]
  }
 ],
 "metadata": {
  "kernelspec": {
   "display_name": "Python 3 (ipykernel)",
   "language": "python",
   "name": "python3"
  },
  "language_info": {
   "codemirror_mode": {
    "name": "ipython",
    "version": 3
   },
   "file_extension": ".py",
   "mimetype": "text/x-python",
   "name": "python",
   "nbconvert_exporter": "python",
   "pygments_lexer": "ipython3",
   "version": "3.12.4"
  }
 },
 "nbformat": 4,
 "nbformat_minor": 5
}
