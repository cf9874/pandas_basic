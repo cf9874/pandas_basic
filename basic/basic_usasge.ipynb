{
 "cells": [
  {
   "cell_type": "code",
   "execution_count": 5,
   "id": "dd06e9f3-eb2f-4bf5-99c1-2c94d25579fe",
   "metadata": {},
   "outputs": [
    {
     "name": "stdout",
     "output_type": "stream",
     "text": [
      "12\n"
     ]
    }
   ],
   "source": [
    "print(12)"
   ]
  },
  {
   "cell_type": "code",
   "execution_count": 9,
   "id": "01be7b69-4ce8-4197-977c-3422ac1b0419",
   "metadata": {},
   "outputs": [
    {
     "data": {
      "text/plain": [
       "int"
      ]
     },
     "execution_count": 9,
     "metadata": {},
     "output_type": "execute_result"
    }
   ],
   "source": [
    "type(1)"
   ]
  },
  {
   "cell_type": "code",
   "execution_count": 11,
   "id": "594dfa31-efd1-4b51-ab31-c706402087ac",
   "metadata": {},
   "outputs": [
    {
     "data": {
      "text/plain": [
       "str"
      ]
     },
     "execution_count": 11,
     "metadata": {},
     "output_type": "execute_result"
    }
   ],
   "source": [
    "type(\"ㅁㄴㅇ\")"
   ]
  },
  {
   "cell_type": "code",
   "execution_count": 13,
   "id": "d174d8dc-f8fa-4943-8bd8-22d9e535d303",
   "metadata": {},
   "outputs": [
    {
     "name": "stdout",
     "output_type": "stream",
     "text": [
      "s\n"
     ]
    }
   ],
   "source": [
    "print(\"asdas11\"[4])"
   ]
  },
  {
   "cell_type": "code",
   "execution_count": 35,
   "id": "416b164d-aaaa-4e30-baef-e49a687d13f5",
   "metadata": {},
   "outputs": [
    {
     "name": "stdout",
     "output_type": "stream",
     "text": [
      "d1\n"
     ]
    }
   ],
   "source": [
    "print(\"asdas11\"[2:9:3])"
   ]
  },
  {
   "cell_type": "code",
   "execution_count": 37,
   "id": "4686c0cc-5f41-4fd6-8f78-e76adeb0615c",
   "metadata": {},
   "outputs": [],
   "source": [
    "#[시작 : 끝 : 단위(표시할 묶음)] "
   ]
  }
 ],
 "metadata": {
  "kernelspec": {
   "display_name": "Python 3 (ipykernel)",
   "language": "python",
   "name": "python3"
  },
  "language_info": {
   "codemirror_mode": {
    "name": "ipython",
    "version": 3
   },
   "file_extension": ".py",
   "mimetype": "text/x-python",
   "name": "python",
   "nbconvert_exporter": "python",
   "pygments_lexer": "ipython3",
   "version": "3.12.4"
  }
 },
 "nbformat": 4,
 "nbformat_minor": 5
}
