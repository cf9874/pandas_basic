{
 "cells": [
  {
   "cell_type": "markdown",
   "id": "c721a3ba-ccb7-4d9c-aeab-f29427b757ed",
   "metadata": {},
   "source": [
    "# Series & DataFrame\n",
    "- 판다스는 엑셀의 파이썬 형태\n",
    "- `엑셀은 table 형태로` 데이터를 저장\n",
    "- 판다스에서는 이 table을 `DataFrame`이라고 한다.\n",
    "- `DataFrame`은 여러개의 `Series`의 결합으로 구성된다."
   ]
  },
  {
   "cell_type": "code",
   "execution_count": 17,
   "id": "33bf2cf7-35c7-4022-a9ed-335e278c18cb",
   "metadata": {},
   "outputs": [
    {
     "name": "stdout",
     "output_type": "stream",
     "text": [
      "[1, 2, 3, 4, 5, 6, 7, 8, 9, 10]\n"
     ]
    }
   ],
   "source": [
    "import pandas as pd\n",
    "import numpy as np\n",
    "\n",
    "nums = [i for i in range(1,11)]\n",
    "print(nums)"
   ]
  },
  {
   "cell_type": "markdown",
   "id": "94b06150-6afd-4cae-97e4-fd2233a97656",
   "metadata": {},
   "source": [
    "# Series 데이터를 생성하는 방법"
   ]
  },
  {
   "cell_type": "code",
   "execution_count": 22,
   "id": "454acb4f-db7e-4c22-9ceb-81156fcb3b9c",
   "metadata": {},
   "outputs": [
    {
     "name": "stdout",
     "output_type": "stream",
     "text": [
      "0     1\n",
      "1     2\n",
      "2     3\n",
      "3     4\n",
      "4     5\n",
      "5     6\n",
      "6     7\n",
      "7     8\n",
      "8     9\n",
      "9    10\n",
      "dtype: int64\n"
     ]
    }
   ],
   "source": [
    "seriesNums = pd.Series(nums)\n",
    "print(seriesNums)"
   ]
  },
  {
   "cell_type": "markdown",
   "id": "bd0e9a5a-09d1-44df-bf84-dff14e38f52d",
   "metadata": {},
   "source": [
    "## Series Data 사용법"
   ]
  },
  {
   "cell_type": "code",
   "execution_count": 33,
   "id": "34ede481-b6cf-44b3-a251-3f147cf8f0ac",
   "metadata": {},
   "outputs": [
    {
     "data": {
      "text/plain": [
       "5.5"
      ]
     },
     "execution_count": 33,
     "metadata": {},
     "output_type": "execute_result"
    }
   ],
   "source": [
    "seriesNums.mean()\n",
    "# Series의 data의 mean값"
   ]
  },
  {
   "cell_type": "code",
   "execution_count": 35,
   "id": "fa8e5ace-9f00-412c-a476-aa6bb718cf6e",
   "metadata": {},
   "outputs": [
    {
     "data": {
      "text/plain": [
       "count    10.00000\n",
       "mean      5.50000\n",
       "std       3.02765\n",
       "min       1.00000\n",
       "25%       3.25000\n",
       "50%       5.50000\n",
       "75%       7.75000\n",
       "max      10.00000\n",
       "dtype: float64"
      ]
     },
     "execution_count": 35,
     "metadata": {},
     "output_type": "execute_result"
    }
   ],
   "source": [
    "seriesNums.describe()"
   ]
  },
  {
   "cell_type": "markdown",
   "id": "23ea6a96-09e5-4377-a2b9-214f0294c22a",
   "metadata": {},
   "source": [
    "# DataFrame을 생성하는 방법"
   ]
  },
  {
   "cell_type": "code",
   "execution_count": 47,
   "id": "6498a0c5-1a16-4f89-9ec2-57098704a42c",
   "metadata": {},
   "outputs": [
    {
     "data": {
      "text/plain": [
       "[[1, 2, 3], [4, 5, 6], [7, 8, 9]]"
      ]
     },
     "execution_count": 47,
     "metadata": {},
     "output_type": "execute_result"
    }
   ],
   "source": [
    "nums = [\n",
    "    [1,2,3],\n",
    "    [4,5,6],\n",
    "    [7,8,9]\n",
    "]\n",
    "nums"
   ]
  },
  {
   "cell_type": "code",
   "execution_count": 49,
   "id": "3fae53d1-564b-4279-808d-5805f85ca4d5",
   "metadata": {},
   "outputs": [
    {
     "data": {
      "text/html": [
       "<div>\n",
       "<style scoped>\n",
       "    .dataframe tbody tr th:only-of-type {\n",
       "        vertical-align: middle;\n",
       "    }\n",
       "\n",
       "    .dataframe tbody tr th {\n",
       "        vertical-align: top;\n",
       "    }\n",
       "\n",
       "    .dataframe thead th {\n",
       "        text-align: right;\n",
       "    }\n",
       "</style>\n",
       "<table border=\"1\" class=\"dataframe\">\n",
       "  <thead>\n",
       "    <tr style=\"text-align: right;\">\n",
       "      <th></th>\n",
       "      <th>0</th>\n",
       "      <th>1</th>\n",
       "      <th>2</th>\n",
       "    </tr>\n",
       "  </thead>\n",
       "  <tbody>\n",
       "    <tr>\n",
       "      <th>0</th>\n",
       "      <td>1</td>\n",
       "      <td>2</td>\n",
       "      <td>3</td>\n",
       "    </tr>\n",
       "    <tr>\n",
       "      <th>1</th>\n",
       "      <td>4</td>\n",
       "      <td>5</td>\n",
       "      <td>6</td>\n",
       "    </tr>\n",
       "    <tr>\n",
       "      <th>2</th>\n",
       "      <td>7</td>\n",
       "      <td>8</td>\n",
       "      <td>9</td>\n",
       "    </tr>\n",
       "  </tbody>\n",
       "</table>\n",
       "</div>"
      ],
      "text/plain": [
       "   0  1  2\n",
       "0  1  2  3\n",
       "1  4  5  6\n",
       "2  7  8  9"
      ]
     },
     "execution_count": 49,
     "metadata": {},
     "output_type": "execute_result"
    }
   ],
   "source": [
    "dfNums = pd.DataFrame(nums)\n",
    "dfNums"
   ]
  },
  {
   "cell_type": "markdown",
   "id": "9c960e3c-0ee7-4303-95dc-c3c9205127ca",
   "metadata": {},
   "source": [
    "### 여러개의 시리즈를 합친 것이 DataFrame"
   ]
  },
  {
   "cell_type": "code",
   "execution_count": 62,
   "id": "8bb94b9a-5429-45a8-a0cd-795d9e03b5b4",
   "metadata": {},
   "outputs": [
    {
     "data": {
      "text/plain": [
       "0    1\n",
       "1    4\n",
       "2    7\n",
       "Name: 0, dtype: int64"
      ]
     },
     "execution_count": 62,
     "metadata": {},
     "output_type": "execute_result"
    }
   ],
   "source": [
    "dfNums[0]"
   ]
  },
  {
   "cell_type": "code",
   "execution_count": 68,
   "id": "ef4de45b-f1d4-4bf8-9b38-35fb56e9f2ae",
   "metadata": {},
   "outputs": [
    {
     "name": "stdout",
     "output_type": "stream",
     "text": [
      "<class 'pandas.core.frame.DataFrame'>\n",
      "<class 'pandas.core.series.Series'>\n"
     ]
    }
   ],
   "source": [
    "print(type(dfNums))\n",
    "print(type(dfNums[0]))"
   ]
  },
  {
   "cell_type": "markdown",
   "id": "39e536f3-3f9a-478d-be81-4055665c003f",
   "metadata": {},
   "source": [
    "## DataFrame Create by using list"
   ]
  },
  {
   "cell_type": "code",
   "execution_count": 72,
   "id": "42a0e6a8-85de-4c59-9175-8e6a880e05b6",
   "metadata": {},
   "outputs": [
    {
     "data": {
      "text/plain": [
       "[['대호', 174, 13], ['수현', 178, 18], ['남기', 172, 11]]"
      ]
     },
     "execution_count": 72,
     "metadata": {},
     "output_type": "execute_result"
    }
   ],
   "source": [
    "users=[\n",
    "    ['대호',174,13],\n",
    "    ['수현',178,18],\n",
    "    ['남기',172,11],\n",
    "]\n",
    "users"
   ]
  },
  {
   "cell_type": "code",
   "execution_count": 76,
   "id": "2aa1a20a-aef7-49ab-9a5c-0b01a5eb8a6a",
   "metadata": {},
   "outputs": [
    {
     "data": {
      "text/html": [
       "<div>\n",
       "<style scoped>\n",
       "    .dataframe tbody tr th:only-of-type {\n",
       "        vertical-align: middle;\n",
       "    }\n",
       "\n",
       "    .dataframe tbody tr th {\n",
       "        vertical-align: top;\n",
       "    }\n",
       "\n",
       "    .dataframe thead th {\n",
       "        text-align: right;\n",
       "    }\n",
       "</style>\n",
       "<table border=\"1\" class=\"dataframe\">\n",
       "  <thead>\n",
       "    <tr style=\"text-align: right;\">\n",
       "      <th></th>\n",
       "      <th>0</th>\n",
       "      <th>1</th>\n",
       "      <th>2</th>\n",
       "    </tr>\n",
       "  </thead>\n",
       "  <tbody>\n",
       "    <tr>\n",
       "      <th>0</th>\n",
       "      <td>대호</td>\n",
       "      <td>174</td>\n",
       "      <td>13</td>\n",
       "    </tr>\n",
       "    <tr>\n",
       "      <th>1</th>\n",
       "      <td>수현</td>\n",
       "      <td>178</td>\n",
       "      <td>18</td>\n",
       "    </tr>\n",
       "    <tr>\n",
       "      <th>2</th>\n",
       "      <td>남기</td>\n",
       "      <td>172</td>\n",
       "      <td>11</td>\n",
       "    </tr>\n",
       "  </tbody>\n",
       "</table>\n",
       "</div>"
      ],
      "text/plain": [
       "    0    1   2\n",
       "0  대호  174  13\n",
       "1  수현  178  18\n",
       "2  남기  172  11"
      ]
     },
     "execution_count": 76,
     "metadata": {},
     "output_type": "execute_result"
    }
   ],
   "source": [
    "dfUsers = pd.DataFrame(users)\n",
    "dfUsers"
   ]
  },
  {
   "cell_type": "code",
   "execution_count": 78,
   "id": "dc02f901-dc26-4e78-a807-d5c027dea815",
   "metadata": {},
   "outputs": [
    {
     "data": {
      "text/html": [
       "<div>\n",
       "<style scoped>\n",
       "    .dataframe tbody tr th:only-of-type {\n",
       "        vertical-align: middle;\n",
       "    }\n",
       "\n",
       "    .dataframe tbody tr th {\n",
       "        vertical-align: top;\n",
       "    }\n",
       "\n",
       "    .dataframe thead th {\n",
       "        text-align: right;\n",
       "    }\n",
       "</style>\n",
       "<table border=\"1\" class=\"dataframe\">\n",
       "  <thead>\n",
       "    <tr style=\"text-align: right;\">\n",
       "      <th></th>\n",
       "      <th>name</th>\n",
       "      <th>height</th>\n",
       "      <th>length</th>\n",
       "    </tr>\n",
       "  </thead>\n",
       "  <tbody>\n",
       "    <tr>\n",
       "      <th>0</th>\n",
       "      <td>대호</td>\n",
       "      <td>174</td>\n",
       "      <td>13</td>\n",
       "    </tr>\n",
       "    <tr>\n",
       "      <th>1</th>\n",
       "      <td>수현</td>\n",
       "      <td>178</td>\n",
       "      <td>18</td>\n",
       "    </tr>\n",
       "    <tr>\n",
       "      <th>2</th>\n",
       "      <td>남기</td>\n",
       "      <td>172</td>\n",
       "      <td>11</td>\n",
       "    </tr>\n",
       "  </tbody>\n",
       "</table>\n",
       "</div>"
      ],
      "text/plain": [
       "  name  height  length\n",
       "0   대호     174      13\n",
       "1   수현     178      18\n",
       "2   남기     172      11"
      ]
     },
     "execution_count": 78,
     "metadata": {},
     "output_type": "execute_result"
    }
   ],
   "source": [
    "dfUsers.columns=[\"name\",\"height\",\"length\"]\n",
    "dfUsers"
   ]
  },
  {
   "cell_type": "markdown",
   "id": "14c77ab0-2169-41de-a2c7-6ff688b42b9c",
   "metadata": {},
   "source": [
    "## DataFrame Create by using Dictionary"
   ]
  },
  {
   "cell_type": "code",
   "execution_count": 104,
   "id": "0341043f-622f-4b4e-8b65-7fa314edb6f1",
   "metadata": {},
   "outputs": [
    {
     "data": {
      "text/plain": [
       "{'name': ['남수', '영민', '재혁'], 'height': [165, 182, 173], 'length': [13, 15, 12]}"
      ]
     },
     "execution_count": 104,
     "metadata": {},
     "output_type": "execute_result"
    }
   ],
   "source": [
    "usersDict ={\n",
    "    \"name\":[\"남수\",\"영민\",\"재혁\"],\n",
    "    \"height\":[165,182,173],\n",
    "    \"length\":[13,15,12]\n",
    "}\n",
    "usersDict"
   ]
  },
  {
   "cell_type": "code",
   "execution_count": 106,
   "id": "e2cf7d9a-63aa-4fbb-a0ff-f53e1cc70c86",
   "metadata": {},
   "outputs": [
    {
     "data": {
      "text/html": [
       "<div>\n",
       "<style scoped>\n",
       "    .dataframe tbody tr th:only-of-type {\n",
       "        vertical-align: middle;\n",
       "    }\n",
       "\n",
       "    .dataframe tbody tr th {\n",
       "        vertical-align: top;\n",
       "    }\n",
       "\n",
       "    .dataframe thead th {\n",
       "        text-align: right;\n",
       "    }\n",
       "</style>\n",
       "<table border=\"1\" class=\"dataframe\">\n",
       "  <thead>\n",
       "    <tr style=\"text-align: right;\">\n",
       "      <th></th>\n",
       "      <th>name</th>\n",
       "      <th>height</th>\n",
       "      <th>length</th>\n",
       "    </tr>\n",
       "  </thead>\n",
       "  <tbody>\n",
       "    <tr>\n",
       "      <th>0</th>\n",
       "      <td>남수</td>\n",
       "      <td>165</td>\n",
       "      <td>13</td>\n",
       "    </tr>\n",
       "    <tr>\n",
       "      <th>1</th>\n",
       "      <td>영민</td>\n",
       "      <td>182</td>\n",
       "      <td>15</td>\n",
       "    </tr>\n",
       "    <tr>\n",
       "      <th>2</th>\n",
       "      <td>재혁</td>\n",
       "      <td>173</td>\n",
       "      <td>12</td>\n",
       "    </tr>\n",
       "  </tbody>\n",
       "</table>\n",
       "</div>"
      ],
      "text/plain": [
       "  name  height  length\n",
       "0   남수     165      13\n",
       "1   영민     182      15\n",
       "2   재혁     173      12"
      ]
     },
     "execution_count": 106,
     "metadata": {},
     "output_type": "execute_result"
    }
   ],
   "source": [
    "dfUsersDict=pd.DataFrame(usersDict)\n",
    "dfUsersDict"
   ]
  },
  {
   "cell_type": "markdown",
   "id": "1e1fe93e-96d3-447a-8ad7-0d5c3207b657",
   "metadata": {},
   "source": [
    "# ** api 응답결과로 list in dict 형태의 데이터 포맷으로 올 가능성이 크다."
   ]
  },
  {
   "cell_type": "code",
   "execution_count": 115,
   "id": "dbbbf980-cff3-4cc6-a986-7fad79afa929",
   "metadata": {},
   "outputs": [
    {
     "data": {
      "text/plain": [
       "[{'name': '창명', 'height': 176, 'age': 30},\n",
       " {'name': '성현', 'height': 180, 'age': 30},\n",
       " {'name': '강철', 'height': 177, 'age': 30}]"
      ]
     },
     "execution_count": 115,
     "metadata": {},
     "output_type": "execute_result"
    }
   ],
   "source": [
    "newUsers =[\n",
    "    {\"name\":'창명',\"height\":176,\"age\":30},\n",
    "    {\"name\":'성현',\"height\":180,\"age\":30},\n",
    "    {\"name\":'강철',\"height\":177,\"age\":30},\n",
    "]\n",
    "newUsers"
   ]
  },
  {
   "cell_type": "code",
   "execution_count": 119,
   "id": "4d9d5d14-947d-4b53-968b-b5e59c3c8a09",
   "metadata": {},
   "outputs": [
    {
     "data": {
      "text/html": [
       "<div>\n",
       "<style scoped>\n",
       "    .dataframe tbody tr th:only-of-type {\n",
       "        vertical-align: middle;\n",
       "    }\n",
       "\n",
       "    .dataframe tbody tr th {\n",
       "        vertical-align: top;\n",
       "    }\n",
       "\n",
       "    .dataframe thead th {\n",
       "        text-align: right;\n",
       "    }\n",
       "</style>\n",
       "<table border=\"1\" class=\"dataframe\">\n",
       "  <thead>\n",
       "    <tr style=\"text-align: right;\">\n",
       "      <th></th>\n",
       "      <th>name</th>\n",
       "      <th>height</th>\n",
       "      <th>age</th>\n",
       "    </tr>\n",
       "  </thead>\n",
       "  <tbody>\n",
       "    <tr>\n",
       "      <th>0</th>\n",
       "      <td>창명</td>\n",
       "      <td>176</td>\n",
       "      <td>30</td>\n",
       "    </tr>\n",
       "    <tr>\n",
       "      <th>1</th>\n",
       "      <td>성현</td>\n",
       "      <td>180</td>\n",
       "      <td>30</td>\n",
       "    </tr>\n",
       "    <tr>\n",
       "      <th>2</th>\n",
       "      <td>강철</td>\n",
       "      <td>177</td>\n",
       "      <td>30</td>\n",
       "    </tr>\n",
       "  </tbody>\n",
       "</table>\n",
       "</div>"
      ],
      "text/plain": [
       "  name  height  age\n",
       "0   창명     176   30\n",
       "1   성현     180   30\n",
       "2   강철     177   30"
      ]
     },
     "execution_count": 119,
     "metadata": {},
     "output_type": "execute_result"
    }
   ],
   "source": [
    "dfNewUsers = pd.DataFrame(newUsers)\n",
    "dfNewUsers"
   ]
  }
 ],
 "metadata": {
  "kernelspec": {
   "display_name": "Python 3 (ipykernel)",
   "language": "python",
   "name": "python3"
  },
  "language_info": {
   "codemirror_mode": {
    "name": "ipython",
    "version": 3
   },
   "file_extension": ".py",
   "mimetype": "text/x-python",
   "name": "python",
   "nbconvert_exporter": "python",
   "pygments_lexer": "ipython3",
   "version": "3.12.4"
  }
 },
 "nbformat": 4,
 "nbformat_minor": 5
}
