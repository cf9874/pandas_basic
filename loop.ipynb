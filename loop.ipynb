{
 "cells": [
  {
   "cell_type": "markdown",
   "id": "687ab20b-2ed2-49c4-9fb5-3a938c7135f3",
   "metadata": {},
   "source": [
    "# 반복문\n",
    "파이썬의 반복문 종류\n",
    "- while\n",
    "- for"
   ]
  },
  {
   "cell_type": "markdown",
   "id": "afe55d93-7833-49e5-b0b7-c2cfb0200f8f",
   "metadata": {},
   "source": [
    "## while 반복\n",
    "### usage\n",
    "    초기값\n",
    "    while 반복조건:\n",
    "        반복할 코드\n",
    "        증감식 or 변화 코드"
   ]
  },
  {
   "cell_type": "code",
   "execution_count": 76,
   "id": "0fceba2e-4fbd-4a1b-8553-19bb42206d1d",
   "metadata": {},
   "outputs": [
    {
     "name": "stdout",
     "output_type": "stream",
     "text": [
      "10\n",
      "8\n",
      "6\n",
      "4\n",
      "2\n"
     ]
    }
   ],
   "source": [
    "num = 10\n",
    "while num>0:\n",
    "    print(num)\n",
    "    num-=2\n"
   ]
  },
  {
   "cell_type": "markdown",
   "id": "2d3c0935-52e7-4a30-8de6-c39ddf3e37a5",
   "metadata": {},
   "source": [
    "## for 반복\n",
    "### usage\n",
    "    for 반복변수 in 반복대상:\n",
    "        반복할 코드"
   ]
  },
  {
   "cell_type": "code",
   "execution_count": 107,
   "id": "85c761db-0862-4f37-946f-f9d31ae3ef96",
   "metadata": {},
   "outputs": [
    {
     "ename": "TypeError",
     "evalue": "'list' object is not callable",
     "output_type": "error",
     "traceback": [
      "\u001b[1;31m---------------------------------------------------------------------------\u001b[0m",
      "\u001b[1;31mTypeError\u001b[0m                                 Traceback (most recent call last)",
      "Cell \u001b[1;32mIn[107], line 2\u001b[0m\n\u001b[0;32m      1\u001b[0m \u001b[38;5;66;03m# for 을 사용할 때는 range 함수가 자주 사용된다.\u001b[39;00m\n\u001b[1;32m----> 2\u001b[0m \u001b[38;5;28;01mfor\u001b[39;00m s \u001b[38;5;129;01min\u001b[39;00m \u001b[38;5;28mrange\u001b[39m(\u001b[38;5;241m1\u001b[39m,\u001b[38;5;241m11\u001b[39m):\n\u001b[0;32m      3\u001b[0m     \u001b[38;5;28mprint\u001b[39m(s)\n",
      "\u001b[1;31mTypeError\u001b[0m: 'list' object is not callable"
     ]
    }
   ],
   "source": [
    "# for 을 사용할 때는 range 함수가 자주 사용된다.\n",
    "for s in range(1,11):\n",
    "    print(s)\n"
   ]
  },
  {
   "cell_type": "code",
   "execution_count": 105,
   "id": "992fb7c4-18ae-403b-b7da-c2a9f3c5fa6e",
   "metadata": {},
   "outputs": [
    {
     "ename": "TypeError",
     "evalue": "'list' object is not callable",
     "output_type": "error",
     "traceback": [
      "\u001b[1;31m---------------------------------------------------------------------------\u001b[0m",
      "\u001b[1;31mTypeError\u001b[0m                                 Traceback (most recent call last)",
      "Cell \u001b[1;32mIn[105], line 1\u001b[0m\n\u001b[1;32m----> 1\u001b[0m range1 \u001b[38;5;241m=\u001b[39m [k \u001b[38;5;28;01mfor\u001b[39;00m k \u001b[38;5;129;01min\u001b[39;00m \u001b[38;5;28mrange\u001b[39m(\u001b[38;5;241m1\u001b[39m,\u001b[38;5;241m11\u001b[39m)]\n\u001b[0;32m      2\u001b[0m \u001b[38;5;28mprint\u001b[39m(range1)\n\u001b[0;32m      4\u001b[0m \u001b[38;5;28;01mfor\u001b[39;00m item \u001b[38;5;129;01min\u001b[39;00m range1:\n",
      "\u001b[1;31mTypeError\u001b[0m: 'list' object is not callable"
     ]
    }
   ],
   "source": [
    "range1 = [k for k in range(1,11)]\n",
    "print(range1)\n",
    "\n",
    "for item in range1:\n",
    "    print(item*2)"
   ]
  },
  {
   "cell_type": "code",
   "execution_count": 86,
   "id": "7e07ca3c-9c62-40f8-a8f4-0060432d1174",
   "metadata": {},
   "outputs": [
    {
     "name": "stdout",
     "output_type": "stream",
     "text": [
      "c\n",
      "h\n",
      "a\n",
      "r\n",
      "a\n",
      "c\n",
      "t\n",
      "e\n",
      "r\n"
     ]
    }
   ],
   "source": [
    "for str in \"character\":\n",
    "    print(str)"
   ]
  },
  {
   "cell_type": "markdown",
   "id": "18a848fa-ed63-4bf7-ba19-2ebd00b219a0",
   "metadata": {},
   "source": [
    "## 반복문 제어\n",
    "- break : 반복 종료\n",
    "- continue : 건너뛰기"
   ]
  },
  {
   "cell_type": "code",
   "execution_count": 109,
   "id": "2d0c0546-0d7b-4af2-9704-bb1dd5813994",
   "metadata": {},
   "outputs": [
    {
     "name": "stdout",
     "output_type": "stream",
     "text": [
      "1\n",
      "2\n"
     ]
    }
   ],
   "source": [
    "for t in [1,2,3,4,5]:\n",
    "    if t ==3:\n",
    "        break\n",
    "    print(t)"
   ]
  },
  {
   "cell_type": "code",
   "execution_count": 111,
   "id": "0368508e-9dd0-4349-ba96-afa7555ab7ae",
   "metadata": {},
   "outputs": [
    {
     "name": "stdout",
     "output_type": "stream",
     "text": [
      "1\n",
      "2\n",
      "4\n",
      "5\n"
     ]
    }
   ],
   "source": [
    "for f in [1,2,3,4,5]:\n",
    "    if f ==3:\n",
    "        continue\n",
    "    print(f)"
   ]
  }
 ],
 "metadata": {
  "kernelspec": {
   "display_name": "Python 3 (ipykernel)",
   "language": "python",
   "name": "python3"
  },
  "language_info": {
   "codemirror_mode": {
    "name": "ipython",
    "version": 3
   },
   "file_extension": ".py",
   "mimetype": "text/x-python",
   "name": "python",
   "nbconvert_exporter": "python",
   "pygments_lexer": "ipython3",
   "version": "3.12.4"
  }
 },
 "nbformat": 4,
 "nbformat_minor": 5
}
